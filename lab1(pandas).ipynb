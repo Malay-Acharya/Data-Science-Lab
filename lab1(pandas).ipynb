{
 "cells": [
  {
   "cell_type": "code",
   "execution_count": 2,
   "metadata": {},
   "outputs": [],
   "source": [
    "import pandas as pd\n",
    "import numpy as np"
   ]
  },
  {
   "cell_type": "code",
   "execution_count": 5,
   "metadata": {},
   "outputs": [
    {
     "name": "stdout",
     "output_type": "stream",
     "text": [
      "0    61\n",
      "1    25\n",
      "2    38\n",
      "3    93\n",
      "4    80\n",
      "5    62\n",
      "6    50\n",
      "7    34\n",
      "dtype: int32\n"
     ]
    }
   ],
   "source": [
    "#Question 1\n",
    "n = int(input(\"Enter the value of n\"))\n",
    "arr = np.random.randint(100, size = n)\n",
    "ser = pd.Series(arr)\n",
    "print(ser)"
   ]
  },
  {
   "cell_type": "code",
   "execution_count": 11,
   "metadata": {},
   "outputs": [
    {
     "name": "stdout",
     "output_type": "stream",
     "text": [
      "   A           B                 C                             D\n",
      "0  1  2019-05-26        Depression  Mental health is challenging\n",
      "1  2  2019-05-26    Social Anxiety  Mental health is challenging\n",
      "2  3  2019-05-26  Bipolar Disorder  Mental health is challenging\n",
      "3  4  2019-05-26   Eating Disorder  Mental health is challenging\n"
     ]
    }
   ],
   "source": [
    "#Question 2\n",
    "data = np.array([[1,\"2019-05-26\",\"Depression\", \"Mental health is challenging\"],\n",
    "[2,\"2019-05-26\",\"Social Anxiety\", \"Mental health is challenging\"],\n",
    "[3,\"2019-05-26\",\"Bipolar Disorder\", \"Mental health is challenging\"],\n",
    "[4,\"2019-05-26\",\"Eating Disorder\", \"Mental health is challenging\"]])\n",
    "\n",
    "df = pd.DataFrame(data, columns=['A', 'B', 'C', 'D'])\n",
    "print(df)"
   ]
  },
  {
   "cell_type": "code",
   "execution_count": 12,
   "metadata": {},
   "outputs": [
    {
     "name": "stdout",
     "output_type": "stream",
     "text": [
      "           A     B     C\n",
      "0      Apple  Ball  None\n",
      "1  Aeroplane   Bat   Cat\n"
     ]
    }
   ],
   "source": [
    "#Question 3\n",
    "data = {\n",
    "    \"A\":[\"Apple\", \"Aeroplane\"],\n",
    "    \"B\":[\"Ball\", \"Bat\"],\n",
    "    \"C\":[None, \"Cat\"]\n",
    "}\n",
    "\n",
    "df = pd.DataFrame(data)\n",
    "print(df)"
   ]
  },
  {
   "cell_type": "code",
   "execution_count": 15,
   "metadata": {},
   "outputs": [
    {
     "name": "stdout",
     "output_type": "stream",
     "text": [
      "     County  ISO-Code      Area Administrative centre\n",
      "0   Ostfold         1   4180.69             Sarpsborg\n",
      "1  Hordland         2   4917.94                  Oslo\n",
      "2      Oslo         3    454.07          City of Oslo\n",
      "3   Hedmark         4  27397.76                 Hamar\n",
      "4   Oppland         5  25192.10           Lillehammer\n",
      "5  Buskerud         6  14910.94               Drammen\n"
     ]
    }
   ],
   "source": [
    "#Question 4\n",
    "data = {\n",
    "    \"County\":[\"Ostfold\", \"Hordland\", \"Oslo\", \"Hedmark\", \"Oppland\", \"Buskerud\"],\n",
    "    \"ISO-Code\":[1,2,3,4,5,6],\n",
    "    \"Area\":[4180.69, 4917.94, 454.07, 27397.76, 25192.10, 14910.94],\n",
    "    \"Administrative centre\":[\"Sarpsborg\", \"Oslo\", \"City of Oslo\", \"Hamar\", \"Lillehammer\", \"Drammen\"]\n",
    "}\n",
    "df = pd.DataFrame(data)\n",
    "print(df)"
   ]
  },
  {
   "cell_type": "code",
   "execution_count": 3,
   "metadata": {},
   "outputs": [
    {
     "name": "stdout",
     "output_type": "stream",
     "text": [
      "   39          State-gov   77516   Bachelors   13        Never-married  \\\n",
      "0  50   Self-emp-not-inc   83311   Bachelors   13   Married-civ-spouse   \n",
      "1  38            Private  215646     HS-grad    9             Divorced   \n",
      "2  53            Private  234721        11th    7   Married-civ-spouse   \n",
      "3  28            Private  338409   Bachelors   13   Married-civ-spouse   \n",
      "4  37            Private  284582     Masters   14   Married-civ-spouse   \n",
      "\n",
      "         Adm-clerical   Not-in-family   White     Male   2174   0   40  \\\n",
      "0     Exec-managerial         Husband   White     Male      0   0   13   \n",
      "1   Handlers-cleaners   Not-in-family   White     Male      0   0   40   \n",
      "2   Handlers-cleaners         Husband   Black     Male      0   0   40   \n",
      "3      Prof-specialty            Wife   Black   Female      0   0   40   \n",
      "4     Exec-managerial            Wife   White   Female      0   0   40   \n",
      "\n",
      "    United-States   <=50K  \n",
      "0   United-States   <=50K  \n",
      "1   United-States   <=50K  \n",
      "2   United-States   <=50K  \n",
      "3            Cuba   <=50K  \n",
      "4   United-States   <=50K   \n",
      "\n"
     ]
    }
   ],
   "source": [
    "#Question 5\n",
    "df = pd.read_csv('https://archive.ics.uci.edu/ml/machine-learning-databases/adult/adult.data')\n",
    "df1 = df.head()\n",
    "print(df1, \"\\n\")\n",
    "\n"
   ]
  },
  {
   "cell_type": "code",
   "execution_count": null,
   "metadata": {},
   "outputs": [],
   "source": []
  }
 ],
 "metadata": {
  "kernelspec": {
   "display_name": "Python 3.10.5 64-bit",
   "language": "python",
   "name": "python3"
  },
  "language_info": {
   "codemirror_mode": {
    "name": "ipython",
    "version": 3
   },
   "file_extension": ".py",
   "mimetype": "text/x-python",
   "name": "python",
   "nbconvert_exporter": "python",
   "pygments_lexer": "ipython3",
   "version": "3.10.5"
  },
  "orig_nbformat": 4,
  "vscode": {
   "interpreter": {
    "hash": "e2d640a0cd099e9cea86e2445ab1b2a684de8182894a9c688a35e1587992dcc6"
   }
  }
 },
 "nbformat": 4,
 "nbformat_minor": 2
}
