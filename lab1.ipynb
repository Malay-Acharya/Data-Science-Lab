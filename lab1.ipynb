{
 "cells": [
  {
   "cell_type": "code",
   "execution_count": 1,
   "metadata": {},
   "outputs": [],
   "source": [
    "import numpy as np"
   ]
  },
  {
   "cell_type": "code",
   "execution_count": 8,
   "metadata": {},
   "outputs": [
    {
     "name": "stdout",
     "output_type": "stream",
     "text": [
      "[[ 1  2]\n",
      " [ 3  4]\n",
      " [ 5  6]\n",
      " [ 7  8]\n",
      " [ 9 10]]\n",
      "2\n",
      "(5, 2)\n",
      "10\n"
     ]
    }
   ],
   "source": [
    "#Question 1\n",
    "arr = np.array([[1,2], [3,4], [5,6], [7,8], [9,10]])\n",
    "print(arr) #Print the array\n",
    "print(arr.ndim) #Number of dimensions\n",
    "print(arr.shape) #Shape of array\n",
    "print(arr.size) #Size of array"
   ]
  },
  {
   "cell_type": "code",
   "execution_count": 9,
   "metadata": {},
   "outputs": [
    {
     "name": "stdout",
     "output_type": "stream",
     "text": [
      "[[200 210]\n",
      " [220 230]\n",
      " [240 250]\n",
      " [260 270]\n",
      " [280 290]]\n"
     ]
    }
   ],
   "source": [
    "#Question 2\n",
    "arr2 = np.arange(start=200, stop=300, step=10).reshape(5,2)\n",
    "print(arr2)"
   ]
  },
  {
   "cell_type": "code",
   "execution_count": 12,
   "metadata": {},
   "outputs": [
    {
     "name": "stdout",
     "output_type": "stream",
     "text": [
      "[7 8 9]\n"
     ]
    }
   ],
   "source": [
    "#Question 3\n",
    "arr3 = np.arange(start=1,stop=10, step=1).reshape(3,3)\n",
    "print(arr3[2]) #Printing 3rd row of the matrix"
   ]
  },
  {
   "cell_type": "code",
   "execution_count": 29,
   "metadata": {},
   "outputs": [
    {
     "name": "stdout",
     "output_type": "stream",
     "text": [
      "[[ 1  6 11 16]\n",
      " [21 26 31 36]\n",
      " [41 46 51 56]\n",
      " [61 66 71 76]\n",
      " [81 86 91 96]] \n",
      "\n",
      "[[21 26 31 36]\n",
      " [61 66 71 76]] \n",
      "\n",
      "[[ 1  6 11 16]\n",
      " [41 46 51 56]\n",
      " [81 86 91 96]]\n"
     ]
    }
   ],
   "source": [
    "#Question 4\n",
    "arr1 = np.arange(start=1,stop=100, step=5).reshape(5,4)\n",
    "print(arr1, \"\\n\")\n",
    "arr2 = arr1[1:5:2]\n",
    "arr3 = arr1[0:5:2]\n",
    "print(arr2, \"\\n\") #Even rows\n",
    "print(arr3) #Odd rows"
   ]
  },
  {
   "cell_type": "code",
   "execution_count": 37,
   "metadata": {},
   "outputs": [
    {
     "name": "stdout",
     "output_type": "stream",
     "text": [
      "[[1 0 2]\n",
      " [0 2 0]\n",
      " [3 3 0]\n",
      " [2 1 2]\n",
      " [0 4 1]\n",
      " [1 0 2]\n",
      " [3 3 0]\n",
      " [0 0 0]] \n",
      "\n",
      "[[1 0 2]\n",
      " [0 2 0]] \n",
      "\n",
      "[[3 3 0]\n",
      " [2 1 2]] \n",
      "\n",
      "[[0 4 1]\n",
      " [1 0 2]] \n",
      "\n",
      "[[3 3 0]\n",
      " [0 0 0]] \n",
      "\n"
     ]
    }
   ],
   "source": [
    "#Question 5\n",
    "arr = np.random.randint(5, size = (8,3))\n",
    "print(arr, \"\\n\") #Printing the arrays\n",
    "arr2 = np.array_split(arr, 4)\n",
    "for i in range(0,4):\n",
    "    print(arr2[i], \"\\n\")  #Printing the spliting arrays"
   ]
  },
  {
   "cell_type": "code",
   "execution_count": 44,
   "metadata": {},
   "outputs": [
    {
     "name": "stdout",
     "output_type": "stream",
     "text": [
      "[[23 50  9 49]\n",
      " [33 11 27 37]\n",
      " [97 86 81 44]\n",
      " [51 38 10  6]] \n",
      "\n",
      "[[49  9 50 23]\n",
      " [37 27 11 33]\n",
      " [44 81 86 97]\n",
      " [ 6 10 38 51]] \n",
      "\n",
      "[[49  9 50 23]\n",
      " [37 27 11 33]\n",
      " [ 6 10 38 51]\n",
      " [44 81 86 97]]\n"
     ]
    }
   ],
   "source": [
    "#Question 6\n",
    "arr = np.random.randint(100, size=(4,4))\n",
    "print(arr, \"\\n\")\n",
    "arr = arr[:, arr[2,:].argsort()]\n",
    "print(arr, \"\\n\") \n",
    "arr = arr[arr[:, 3].argsort()] #Sort according to column\n",
    "print(arr)"
   ]
  },
  {
   "cell_type": "code",
   "execution_count": 49,
   "metadata": {},
   "outputs": [
    {
     "name": "stdout",
     "output_type": "stream",
     "text": [
      "[[ 8 90 56]\n",
      " [34 10 73]\n",
      " [79 29 13]] \n",
      "\n",
      "[[ 8 90 28]\n",
      " [34 10 77]\n",
      " [79 29 43]]\n"
     ]
    }
   ],
   "source": [
    "#Question 7\n",
    "arr = np.random.randint(100, size=(3,3))\n",
    "print(arr, \"\\n\") #Original array\n",
    "arr2 = np.random.randint(100, size=(3))\n",
    "arr[:,2] = arr2\n",
    "print(arr)"
   ]
  },
  {
   "cell_type": "code",
   "execution_count": null,
   "metadata": {},
   "outputs": [],
   "source": []
  }
 ],
 "metadata": {
  "kernelspec": {
   "display_name": "Python 3.10.5 64-bit",
   "language": "python",
   "name": "python3"
  },
  "language_info": {
   "codemirror_mode": {
    "name": "ipython",
    "version": 3
   },
   "file_extension": ".py",
   "mimetype": "text/x-python",
   "name": "python",
   "nbconvert_exporter": "python",
   "pygments_lexer": "ipython3",
   "version": "3.10.5"
  },
  "orig_nbformat": 4,
  "vscode": {
   "interpreter": {
    "hash": "e2d640a0cd099e9cea86e2445ab1b2a684de8182894a9c688a35e1587992dcc6"
   }
  }
 },
 "nbformat": 4,
 "nbformat_minor": 2
}
